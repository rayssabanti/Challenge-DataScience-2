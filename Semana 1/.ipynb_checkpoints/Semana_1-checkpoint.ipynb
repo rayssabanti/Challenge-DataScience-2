{
 "cells": [
  {
   "cell_type": "markdown",
   "id": "85338f84-a444-4a95-a6a7-0b7aeaf653b0",
   "metadata": {},
   "source": [
    "# Alura Challenge Data Science"
   ]
  },
  {
   "cell_type": "markdown",
   "id": "13f4f904-44c2-4264-8924-de040382dac5",
   "metadata": {},
   "source": [
    "## Imports"
   ]
  },
  {
   "cell_type": "code",
   "execution_count": 28,
   "id": "51ba3509-a795-489b-93d5-664da7083c2e",
   "metadata": {},
   "outputs": [],
   "source": [
    "import pandas as pd\n",
    "import numpy as np"
   ]
  },
  {
   "cell_type": "markdown",
   "id": "a13e52b3-4936-4d86-8a62-ddbb465c5b67",
   "metadata": {
    "tags": []
   },
   "source": [
    "## ETL"
   ]
  },
  {
   "cell_type": "code",
   "execution_count": 43,
   "id": "a055733c-dd54-4eba-9d18-c49231f5304d",
   "metadata": {},
   "outputs": [],
   "source": [
    "dados_mutuarios = pd.read_csv('Dados/dados_mutuarios.csv')"
   ]
  },
  {
   "cell_type": "code",
   "execution_count": 44,
   "id": "95fff6e4-deac-41f0-926b-f077afbeb8d6",
   "metadata": {},
   "outputs": [],
   "source": [
    "emprestimos = pd.read_csv('Dados/emprestimos.csv')"
   ]
  },
  {
   "cell_type": "code",
   "execution_count": 45,
   "id": "77c533e0-8477-4cd9-a318-19309e70a8ef",
   "metadata": {},
   "outputs": [],
   "source": [
    "historicos_banco = pd.read_csv('Dados/historicos_banco.csv')"
   ]
  },
  {
   "cell_type": "code",
   "execution_count": 46,
   "id": "5fec9e2d-e404-4fc9-9257-e50b311ba21b",
   "metadata": {},
   "outputs": [],
   "source": [
    "ids = pd.read_csv('Dados/id.csv')"
   ]
  },
  {
   "cell_type": "markdown",
   "id": "4e58c6c0-e0e9-4b4b-9b7d-6acb444955e5",
   "metadata": {
    "jp-MarkdownHeadingCollapsed": true,
    "tags": []
   },
   "source": [
    "### Análise Inicial - Dados Mutuarios"
   ]
  },
  {
   "cell_type": "code",
   "execution_count": 6,
   "id": "25ac5529-65d7-42d4-ab24-df22f2e120a7",
   "metadata": {},
   "outputs": [
    {
     "data": {
      "text/html": [
       "<div>\n",
       "<style scoped>\n",
       "    .dataframe tbody tr th:only-of-type {\n",
       "        vertical-align: middle;\n",
       "    }\n",
       "\n",
       "    .dataframe tbody tr th {\n",
       "        vertical-align: top;\n",
       "    }\n",
       "\n",
       "    .dataframe thead th {\n",
       "        text-align: right;\n",
       "    }\n",
       "</style>\n",
       "<table border=\"1\" class=\"dataframe\">\n",
       "  <thead>\n",
       "    <tr style=\"text-align: right;\">\n",
       "      <th></th>\n",
       "      <th>person_id</th>\n",
       "      <th>person_age</th>\n",
       "      <th>person_income</th>\n",
       "      <th>person_home_ownership</th>\n",
       "      <th>person_emp_length</th>\n",
       "    </tr>\n",
       "  </thead>\n",
       "  <tbody>\n",
       "    <tr>\n",
       "      <th>0</th>\n",
       "      <td>tad8vkTn-vp4l</td>\n",
       "      <td>33.0</td>\n",
       "      <td>48000.0</td>\n",
       "      <td>Rent</td>\n",
       "      <td>17.0</td>\n",
       "    </tr>\n",
       "    <tr>\n",
       "      <th>1</th>\n",
       "      <td>dEILQqp2-lgLx</td>\n",
       "      <td>24.0</td>\n",
       "      <td>75000.0</td>\n",
       "      <td>Own</td>\n",
       "      <td>0.0</td>\n",
       "    </tr>\n",
       "    <tr>\n",
       "      <th>2</th>\n",
       "      <td>Az11sWWw-SdFA</td>\n",
       "      <td>29.0</td>\n",
       "      <td>28800.0</td>\n",
       "      <td>Rent</td>\n",
       "      <td>5.0</td>\n",
       "    </tr>\n",
       "    <tr>\n",
       "      <th>3</th>\n",
       "      <td>YDovEwBH-0eek</td>\n",
       "      <td>23.0</td>\n",
       "      <td>75000.0</td>\n",
       "      <td>Mortgage</td>\n",
       "      <td>7.0</td>\n",
       "    </tr>\n",
       "    <tr>\n",
       "      <th>4</th>\n",
       "      <td>lNsbfwlP-gzOE</td>\n",
       "      <td>26.0</td>\n",
       "      <td>35000.0</td>\n",
       "      <td>Rent</td>\n",
       "      <td>0.0</td>\n",
       "    </tr>\n",
       "  </tbody>\n",
       "</table>\n",
       "</div>"
      ],
      "text/plain": [
       "       person_id  person_age  person_income person_home_ownership  \\\n",
       "0  tad8vkTn-vp4l        33.0        48000.0                  Rent   \n",
       "1  dEILQqp2-lgLx        24.0        75000.0                   Own   \n",
       "2  Az11sWWw-SdFA        29.0        28800.0                  Rent   \n",
       "3  YDovEwBH-0eek        23.0        75000.0              Mortgage   \n",
       "4  lNsbfwlP-gzOE        26.0        35000.0                  Rent   \n",
       "\n",
       "   person_emp_length  \n",
       "0               17.0  \n",
       "1                0.0  \n",
       "2                5.0  \n",
       "3                7.0  \n",
       "4                0.0  "
      ]
     },
     "execution_count": 6,
     "metadata": {},
     "output_type": "execute_result"
    }
   ],
   "source": [
    "dados_mutuarios.head()"
   ]
  },
  {
   "cell_type": "markdown",
   "id": "8bbe1d78-723a-4f14-b441-4dd2b57bc4cb",
   "metadata": {},
   "source": [
    "- Person_id: Id do solicitante (Qualitativo Nominal)\n",
    "- person_Age: Idade da pessoa - em anos - que solicita empréstimo (Quantitativo Discreto)\n",
    "- person_income: salário anual da pessoa solicitante (Quantitativo discreto)\n",
    "- person_home_ownership: Situação da propriedade que a pessoa possui: Alugada, Própria, Hipotecada e Outros (Qualitativo Nominal)\n",
    "- person_emp_length: Tempo - em  anos - que a pessoa trabalhou (Qualitativo Ordinal)"
   ]
  },
  {
   "cell_type": "code",
   "execution_count": 7,
   "id": "68b428f4-701d-4426-ab9f-80e6298b4f10",
   "metadata": {},
   "outputs": [
    {
     "name": "stdout",
     "output_type": "stream",
     "text": [
      "<class 'pandas.core.frame.DataFrame'>\n",
      "RangeIndex: 34489 entries, 0 to 34488\n",
      "Data columns (total 5 columns):\n",
      " #   Column                 Non-Null Count  Dtype  \n",
      "---  ------                 --------------  -----  \n",
      " 0   person_id              34485 non-null  object \n",
      " 1   person_age             34168 non-null  float64\n",
      " 2   person_income          34153 non-null  float64\n",
      " 3   person_home_ownership  34158 non-null  object \n",
      " 4   person_emp_length      33235 non-null  float64\n",
      "dtypes: float64(3), object(2)\n",
      "memory usage: 1.3+ MB\n"
     ]
    }
   ],
   "source": [
    "dados_mutuarios.info()"
   ]
  },
  {
   "cell_type": "markdown",
   "id": "0dddd5f7-3805-40c0-816a-49cd8ac96e26",
   "metadata": {
    "jp-MarkdownHeadingCollapsed": true,
    "tags": []
   },
   "source": [
    "### Análise Inicial - Emprestimos"
   ]
  },
  {
   "cell_type": "code",
   "execution_count": 18,
   "id": "d19aa999-3b6b-449c-bdf7-5ca1610f468f",
   "metadata": {},
   "outputs": [
    {
     "data": {
      "text/html": [
       "<div>\n",
       "<style scoped>\n",
       "    .dataframe tbody tr th:only-of-type {\n",
       "        vertical-align: middle;\n",
       "    }\n",
       "\n",
       "    .dataframe tbody tr th {\n",
       "        vertical-align: top;\n",
       "    }\n",
       "\n",
       "    .dataframe thead th {\n",
       "        text-align: right;\n",
       "    }\n",
       "</style>\n",
       "<table border=\"1\" class=\"dataframe\">\n",
       "  <thead>\n",
       "    <tr style=\"text-align: right;\">\n",
       "      <th></th>\n",
       "      <th>loan_id</th>\n",
       "      <th>loan_intent</th>\n",
       "      <th>loan_grade</th>\n",
       "      <th>loan_amnt</th>\n",
       "      <th>loan_int_rate</th>\n",
       "      <th>loan_status</th>\n",
       "      <th>loan_percent_income</th>\n",
       "    </tr>\n",
       "  </thead>\n",
       "  <tbody>\n",
       "    <tr>\n",
       "      <th>0</th>\n",
       "      <td>NMgFWFWN-2yGG</td>\n",
       "      <td>Homeimprovement</td>\n",
       "      <td>C</td>\n",
       "      <td>20000.0</td>\n",
       "      <td>13.22</td>\n",
       "      <td>0.0</td>\n",
       "      <td>0.22</td>\n",
       "    </tr>\n",
       "    <tr>\n",
       "      <th>1</th>\n",
       "      <td>08Ts3XSa-KkvE</td>\n",
       "      <td>Venture</td>\n",
       "      <td>C</td>\n",
       "      <td>6000.0</td>\n",
       "      <td>13.49</td>\n",
       "      <td>0.0</td>\n",
       "      <td>0.04</td>\n",
       "    </tr>\n",
       "    <tr>\n",
       "      <th>2</th>\n",
       "      <td>xo79pAME-elmp</td>\n",
       "      <td>Personal</td>\n",
       "      <td>A</td>\n",
       "      <td>8000.0</td>\n",
       "      <td>6.17</td>\n",
       "      <td>0.0</td>\n",
       "      <td>0.13</td>\n",
       "    </tr>\n",
       "    <tr>\n",
       "      <th>3</th>\n",
       "      <td>IB6lBS2h-nWhz</td>\n",
       "      <td>Homeimprovement</td>\n",
       "      <td>B</td>\n",
       "      <td>9600.0</td>\n",
       "      <td>10.08</td>\n",
       "      <td>0.0</td>\n",
       "      <td>0.16</td>\n",
       "    </tr>\n",
       "    <tr>\n",
       "      <th>4</th>\n",
       "      <td>CONLtJHn-1yde</td>\n",
       "      <td>Medical</td>\n",
       "      <td>A</td>\n",
       "      <td>6500.0</td>\n",
       "      <td>8.49</td>\n",
       "      <td>0.0</td>\n",
       "      <td>0.30</td>\n",
       "    </tr>\n",
       "  </tbody>\n",
       "</table>\n",
       "</div>"
      ],
      "text/plain": [
       "         loan_id      loan_intent loan_grade  loan_amnt  loan_int_rate  \\\n",
       "0  NMgFWFWN-2yGG  Homeimprovement          C    20000.0          13.22   \n",
       "1  08Ts3XSa-KkvE          Venture          C     6000.0          13.49   \n",
       "2  xo79pAME-elmp         Personal          A     8000.0           6.17   \n",
       "3  IB6lBS2h-nWhz  Homeimprovement          B     9600.0          10.08   \n",
       "4  CONLtJHn-1yde          Medical          A     6500.0           8.49   \n",
       "\n",
       "   loan_status  loan_percent_income  \n",
       "0          0.0                 0.22  \n",
       "1          0.0                 0.04  \n",
       "2          0.0                 0.13  \n",
       "3          0.0                 0.16  \n",
       "4          0.0                 0.30  "
      ]
     },
     "execution_count": 18,
     "metadata": {},
     "output_type": "execute_result"
    }
   ],
   "source": [
    "emprestimos.head()"
   ]
  },
  {
   "cell_type": "markdown",
   "id": "26266b75-5984-49b8-b2ae-122e83949883",
   "metadata": {},
   "source": [
    "- loan_id: id da solicitação de emprestimo de cada user \n",
    "- loan_intent: Motivo do empréstimo:  Pessoal (Personal), Educativo (Education), Médico (Medical), Empreendimento (Venture), Melhora do lar (Homeimprovement), Pagamento de débitos (Debtconsolidation) (Qualitativo Nominal)\n",
    "- loan_grade: Pontuação de empréstimos, por nível variando de A a G  (Qualitativo Ordinal)\n",
    "- loan_amnt: Valor total do empréstimo solicitado (Quantitativo discreto)\n",
    "- loan_int_rate: Taxa de Juros (Quantitativo Contínuo)\n",
    "- loan_status: Possibilidade de inadimplência (Qualitativo Nominal)\n",
    "- loan_percent_income: Renda Percentual entre o valor total do empréstimo e o salário anual.  (Quantitativa Ordinal)\n"
   ]
  },
  {
   "cell_type": "code",
   "execution_count": 9,
   "id": "bcea5bb1-0ad7-400b-87a6-403557714b6f",
   "metadata": {},
   "outputs": [
    {
     "name": "stdout",
     "output_type": "stream",
     "text": [
      "<class 'pandas.core.frame.DataFrame'>\n",
      "RangeIndex: 34489 entries, 0 to 34488\n",
      "Data columns (total 7 columns):\n",
      " #   Column               Non-Null Count  Dtype  \n",
      "---  ------               --------------  -----  \n",
      " 0   loan_id              34489 non-null  object \n",
      " 1   loan_intent          34177 non-null  object \n",
      " 2   loan_grade           34179 non-null  object \n",
      " 3   loan_amnt            34158 non-null  float64\n",
      " 4   loan_int_rate        30862 non-null  float64\n",
      " 5   loan_status          34146 non-null  float64\n",
      " 6   loan_percent_income  34173 non-null  float64\n",
      "dtypes: float64(4), object(3)\n",
      "memory usage: 1.8+ MB\n"
     ]
    }
   ],
   "source": [
    "emprestimos.info()"
   ]
  },
  {
   "cell_type": "markdown",
   "id": "0bd1adb6-b97b-46d1-9d77-fb0103a2b12a",
   "metadata": {
    "tags": []
   },
   "source": [
    "### Análise Inicial - historicos_banco"
   ]
  },
  {
   "cell_type": "code",
   "execution_count": 10,
   "id": "1a7a8dd9-b95c-4a9d-96b9-3a18461f284e",
   "metadata": {},
   "outputs": [
    {
     "data": {
      "text/html": [
       "<div>\n",
       "<style scoped>\n",
       "    .dataframe tbody tr th:only-of-type {\n",
       "        vertical-align: middle;\n",
       "    }\n",
       "\n",
       "    .dataframe tbody tr th {\n",
       "        vertical-align: top;\n",
       "    }\n",
       "\n",
       "    .dataframe thead th {\n",
       "        text-align: right;\n",
       "    }\n",
       "</style>\n",
       "<table border=\"1\" class=\"dataframe\">\n",
       "  <thead>\n",
       "    <tr style=\"text-align: right;\">\n",
       "      <th></th>\n",
       "      <th>cb_id</th>\n",
       "      <th>cb_person_default_on_file</th>\n",
       "      <th>cb_person_cred_hist_length</th>\n",
       "    </tr>\n",
       "  </thead>\n",
       "  <tbody>\n",
       "    <tr>\n",
       "      <th>0</th>\n",
       "      <td>ZNWGR0Ap-FDt2</td>\n",
       "      <td>N</td>\n",
       "      <td>9.0</td>\n",
       "    </tr>\n",
       "    <tr>\n",
       "      <th>1</th>\n",
       "      <td>wqALDH4x-mnzE</td>\n",
       "      <td>N</td>\n",
       "      <td>7.0</td>\n",
       "    </tr>\n",
       "    <tr>\n",
       "      <th>2</th>\n",
       "      <td>57O09sJw-NBKj</td>\n",
       "      <td>N</td>\n",
       "      <td>6.0</td>\n",
       "    </tr>\n",
       "    <tr>\n",
       "      <th>3</th>\n",
       "      <td>pH50QiTJ-0jqz</td>\n",
       "      <td>Y</td>\n",
       "      <td>10.0</td>\n",
       "    </tr>\n",
       "    <tr>\n",
       "      <th>4</th>\n",
       "      <td>3voX5CIK-tCxE</td>\n",
       "      <td>N</td>\n",
       "      <td>12.0</td>\n",
       "    </tr>\n",
       "  </tbody>\n",
       "</table>\n",
       "</div>"
      ],
      "text/plain": [
       "           cb_id cb_person_default_on_file  cb_person_cred_hist_length\n",
       "0  ZNWGR0Ap-FDt2                         N                         9.0\n",
       "1  wqALDH4x-mnzE                         N                         7.0\n",
       "2  57O09sJw-NBKj                         N                         6.0\n",
       "3  pH50QiTJ-0jqz                         Y                        10.0\n",
       "4  3voX5CIK-tCxE                         N                        12.0"
      ]
     },
     "execution_count": 10,
     "metadata": {},
     "output_type": "execute_result"
    }
   ],
   "source": [
    "historicos_banco.head()"
   ]
  },
  {
   "cell_type": "markdown",
   "id": "6303d9ea-eaad-4edb-9de2-3f23b4b6e498",
   "metadata": {},
   "source": [
    "- cb_id: ID do histórico de cada solicitante (Qualitativo Nominal)\n",
    "- cb_person_default_on_file: Indica se a pessoa já foi inadimplente: sim(Y,YES) e não (N, NO) (Qualitativo nominal)\n",
    "- cb_person_cred_hist_length: Tempo - em anos - desde a primeira solicitação de crédito ou aquisição de um cartão de crédito (Qualitativo ordinal)"
   ]
  },
  {
   "cell_type": "code",
   "execution_count": 11,
   "id": "722a4d0b-2d0f-41a6-9b1d-4e86969228fc",
   "metadata": {},
   "outputs": [
    {
     "name": "stdout",
     "output_type": "stream",
     "text": [
      "<class 'pandas.core.frame.DataFrame'>\n",
      "RangeIndex: 34489 entries, 0 to 34488\n",
      "Data columns (total 3 columns):\n",
      " #   Column                      Non-Null Count  Dtype  \n",
      "---  ------                      --------------  -----  \n",
      " 0   cb_id                       34489 non-null  object \n",
      " 1   cb_person_default_on_file   34122 non-null  object \n",
      " 2   cb_person_cred_hist_length  34488 non-null  float64\n",
      "dtypes: float64(1), object(2)\n",
      "memory usage: 808.5+ KB\n"
     ]
    }
   ],
   "source": [
    "historicos_banco.info()"
   ]
  },
  {
   "cell_type": "markdown",
   "id": "7744efc8-cb53-46d8-8be9-8ec9d8a42de1",
   "metadata": {
    "tags": []
   },
   "source": [
    "### Análise Inicial - ids"
   ]
  },
  {
   "cell_type": "code",
   "execution_count": 12,
   "id": "7142be56-0b9d-462b-929f-35c1f6ae0130",
   "metadata": {},
   "outputs": [
    {
     "data": {
      "text/html": [
       "<div>\n",
       "<style scoped>\n",
       "    .dataframe tbody tr th:only-of-type {\n",
       "        vertical-align: middle;\n",
       "    }\n",
       "\n",
       "    .dataframe tbody tr th {\n",
       "        vertical-align: top;\n",
       "    }\n",
       "\n",
       "    .dataframe thead th {\n",
       "        text-align: right;\n",
       "    }\n",
       "</style>\n",
       "<table border=\"1\" class=\"dataframe\">\n",
       "  <thead>\n",
       "    <tr style=\"text-align: right;\">\n",
       "      <th></th>\n",
       "      <th>person_id</th>\n",
       "      <th>loan_id</th>\n",
       "      <th>cb_id</th>\n",
       "    </tr>\n",
       "  </thead>\n",
       "  <tbody>\n",
       "    <tr>\n",
       "      <th>0</th>\n",
       "      <td>JAz2tRvQ-14cy</td>\n",
       "      <td>pjEu6snv-4t33</td>\n",
       "      <td>FIgNSkrG-wen7</td>\n",
       "    </tr>\n",
       "    <tr>\n",
       "      <th>1</th>\n",
       "      <td>MZSefq9m-loYS</td>\n",
       "      <td>Mfn0Csx4-LGM3</td>\n",
       "      <td>QPDJUQfQ-DJqK</td>\n",
       "    </tr>\n",
       "    <tr>\n",
       "      <th>2</th>\n",
       "      <td>cRItaaPB-pRvT</td>\n",
       "      <td>Ks4nz74P-z6Iq</td>\n",
       "      <td>hzAXqSDh-ay7Q</td>\n",
       "    </tr>\n",
       "    <tr>\n",
       "      <th>3</th>\n",
       "      <td>5jTDCfXS-zaAq</td>\n",
       "      <td>ZFlwW08i-I3Al</td>\n",
       "      <td>LiAivrS4-J5DE</td>\n",
       "    </tr>\n",
       "    <tr>\n",
       "      <th>4</th>\n",
       "      <td>Hbz9PtI3-tOFs</td>\n",
       "      <td>bFMFchcv-UwQW</td>\n",
       "      <td>PkBixMJ3-3bad</td>\n",
       "    </tr>\n",
       "  </tbody>\n",
       "</table>\n",
       "</div>"
      ],
      "text/plain": [
       "       person_id        loan_id          cb_id\n",
       "0  JAz2tRvQ-14cy  pjEu6snv-4t33  FIgNSkrG-wen7\n",
       "1  MZSefq9m-loYS  Mfn0Csx4-LGM3  QPDJUQfQ-DJqK\n",
       "2  cRItaaPB-pRvT  Ks4nz74P-z6Iq  hzAXqSDh-ay7Q\n",
       "3  5jTDCfXS-zaAq  ZFlwW08i-I3Al  LiAivrS4-J5DE\n",
       "4  Hbz9PtI3-tOFs  bFMFchcv-UwQW  PkBixMJ3-3bad"
      ]
     },
     "execution_count": 12,
     "metadata": {},
     "output_type": "execute_result"
    }
   ],
   "source": [
    "ids.head()"
   ]
  },
  {
   "cell_type": "markdown",
   "id": "18df68e8-3bfa-4051-b243-9f0041c1ff74",
   "metadata": {},
   "source": [
    "- person_id: ID da pessoa solicitante (Qualitativo Nominal)\n",
    "- loan_id: ID da solicitação de empréstico de cada solicitante  (Qualitativo Nominal)\n",
    "- cb_id: ID do histórico de cada solicitante (Qualitativo Nominal)"
   ]
  },
  {
   "cell_type": "code",
   "execution_count": 20,
   "id": "5ba962c9-c188-4642-89b8-e88420f532b2",
   "metadata": {},
   "outputs": [
    {
     "name": "stdout",
     "output_type": "stream",
     "text": [
      "<class 'pandas.core.frame.DataFrame'>\n",
      "RangeIndex: 14952 entries, 0 to 14951\n",
      "Data columns (total 3 columns):\n",
      " #   Column     Non-Null Count  Dtype \n",
      "---  ------     --------------  ----- \n",
      " 0   person_id  14952 non-null  object\n",
      " 1   loan_id    14952 non-null  object\n",
      " 2   cb_id      14952 non-null  object\n",
      "dtypes: object(3)\n",
      "memory usage: 350.6+ KB\n"
     ]
    }
   ],
   "source": [
    "ids.info()"
   ]
  },
  {
   "cell_type": "markdown",
   "id": "b3137ffb-2f6e-4000-91f3-e812291684a1",
   "metadata": {
    "tags": []
   },
   "source": [
    "### Unindo os dados"
   ]
  },
  {
   "cell_type": "code",
   "execution_count": 21,
   "id": "ffc0d3e8-a246-49a1-a904-b0a6cd436074",
   "metadata": {},
   "outputs": [],
   "source": [
    "df = pd.merge(ids,dados_mutuarios, how='left', on='person_id')"
   ]
  },
  {
   "cell_type": "code",
   "execution_count": 23,
   "id": "1d975b25-0632-4a98-b2be-1dc1cb520582",
   "metadata": {},
   "outputs": [],
   "source": [
    "df =  pd.merge(df,emprestimos, how='left', on='loan_id')"
   ]
  },
  {
   "cell_type": "code",
   "execution_count": 25,
   "id": "f2eed34c-901c-45d0-b192-09de33780542",
   "metadata": {},
   "outputs": [],
   "source": [
    "df =  pd.merge(df,historicos_banco, how='left', on='cb_id')"
   ]
  },
  {
   "cell_type": "markdown",
   "id": "6b8e07e0-8915-4d1e-a237-d69b947de769",
   "metadata": {},
   "source": [
    "### Validando os dados nullos"
   ]
  },
  {
   "cell_type": "code",
   "execution_count": 32,
   "id": "07772432-ae03-4010-9556-e1e8fa7f74da",
   "metadata": {},
   "outputs": [],
   "source": [
    "df = df.replace(pd.NA, np.nan)"
   ]
  },
  {
   "cell_type": "code",
   "execution_count": 35,
   "id": "d2b50bb1-4520-481e-9ada-d741ae318117",
   "metadata": {},
   "outputs": [
    {
     "name": "stdout",
     "output_type": "stream",
     "text": [
      "<class 'pandas.core.frame.DataFrame'>\n",
      "Int64Index: 14952 entries, 0 to 14951\n",
      "Data columns (total 15 columns):\n",
      " #   Column                      Non-Null Count  Dtype  \n",
      "---  ------                      --------------  -----  \n",
      " 0   person_id                   14952 non-null  object \n",
      " 1   loan_id                     14952 non-null  object \n",
      " 2   cb_id                       14952 non-null  object \n",
      " 3   person_age                  14819 non-null  float64\n",
      " 4   person_income               14809 non-null  float64\n",
      " 5   person_home_ownership       14800 non-null  object \n",
      " 6   person_emp_length           14389 non-null  float64\n",
      " 7   loan_intent                 14844 non-null  object \n",
      " 8   loan_grade                  14828 non-null  object \n",
      " 9   loan_amnt                   14813 non-null  float64\n",
      " 10  loan_int_rate               13384 non-null  float64\n",
      " 11  loan_status                 14795 non-null  float64\n",
      " 12  loan_percent_income         14812 non-null  float64\n",
      " 13  cb_person_default_on_file   14791 non-null  object \n",
      " 14  cb_person_cred_hist_length  14952 non-null  float64\n",
      "dtypes: float64(8), object(7)\n",
      "memory usage: 1.8+ MB\n"
     ]
    }
   ],
   "source": [
    "df.info()"
   ]
  },
  {
   "cell_type": "code",
   "execution_count": 36,
   "id": "163d0e45-7709-4557-82d3-88881455a226",
   "metadata": {},
   "outputs": [
    {
     "data": {
      "text/html": [
       "<div>\n",
       "<style scoped>\n",
       "    .dataframe tbody tr th:only-of-type {\n",
       "        vertical-align: middle;\n",
       "    }\n",
       "\n",
       "    .dataframe tbody tr th {\n",
       "        vertical-align: top;\n",
       "    }\n",
       "\n",
       "    .dataframe thead th {\n",
       "        text-align: right;\n",
       "    }\n",
       "</style>\n",
       "<table border=\"1\" class=\"dataframe\">\n",
       "  <thead>\n",
       "    <tr style=\"text-align: right;\">\n",
       "      <th></th>\n",
       "      <th>person_id</th>\n",
       "      <th>loan_id</th>\n",
       "      <th>cb_id</th>\n",
       "      <th>person_age</th>\n",
       "      <th>person_income</th>\n",
       "      <th>person_home_ownership</th>\n",
       "      <th>person_emp_length</th>\n",
       "      <th>loan_intent</th>\n",
       "      <th>loan_grade</th>\n",
       "      <th>loan_amnt</th>\n",
       "      <th>loan_int_rate</th>\n",
       "      <th>loan_status</th>\n",
       "      <th>loan_percent_income</th>\n",
       "      <th>cb_person_default_on_file</th>\n",
       "      <th>cb_person_cred_hist_length</th>\n",
       "    </tr>\n",
       "  </thead>\n",
       "  <tbody>\n",
       "    <tr>\n",
       "      <th>0</th>\n",
       "      <td>JAz2tRvQ-14cy</td>\n",
       "      <td>pjEu6snv-4t33</td>\n",
       "      <td>FIgNSkrG-wen7</td>\n",
       "      <td>NaN</td>\n",
       "      <td>41160.0</td>\n",
       "      <td>Rent</td>\n",
       "      <td>2.0</td>\n",
       "      <td>Debtconsolidation</td>\n",
       "      <td>A</td>\n",
       "      <td>6500.0</td>\n",
       "      <td>13.57</td>\n",
       "      <td>0.0</td>\n",
       "      <td>NaN</td>\n",
       "      <td>Y</td>\n",
       "      <td>2.0</td>\n",
       "    </tr>\n",
       "    <tr>\n",
       "      <th>1</th>\n",
       "      <td>MZSefq9m-loYS</td>\n",
       "      <td>Mfn0Csx4-LGM3</td>\n",
       "      <td>QPDJUQfQ-DJqK</td>\n",
       "      <td>22.0</td>\n",
       "      <td>29000.0</td>\n",
       "      <td>Mortgage</td>\n",
       "      <td>5.0</td>\n",
       "      <td>Debtconsolidation</td>\n",
       "      <td>B</td>\n",
       "      <td>9000.0</td>\n",
       "      <td>NaN</td>\n",
       "      <td>1.0</td>\n",
       "      <td>0.31</td>\n",
       "      <td>N</td>\n",
       "      <td>4.0</td>\n",
       "    </tr>\n",
       "    <tr>\n",
       "      <th>2</th>\n",
       "      <td>cRItaaPB-pRvT</td>\n",
       "      <td>Ks4nz74P-z6Iq</td>\n",
       "      <td>hzAXqSDh-ay7Q</td>\n",
       "      <td>31.0</td>\n",
       "      <td>19968.0</td>\n",
       "      <td>Rent</td>\n",
       "      <td>1.0</td>\n",
       "      <td>Education</td>\n",
       "      <td>B</td>\n",
       "      <td>2500.0</td>\n",
       "      <td>9.62</td>\n",
       "      <td>1.0</td>\n",
       "      <td>0.13</td>\n",
       "      <td>N</td>\n",
       "      <td>6.0</td>\n",
       "    </tr>\n",
       "    <tr>\n",
       "      <th>3</th>\n",
       "      <td>5jTDCfXS-zaAq</td>\n",
       "      <td>ZFlwW08i-I3Al</td>\n",
       "      <td>LiAivrS4-J5DE</td>\n",
       "      <td>29.0</td>\n",
       "      <td>73000.0</td>\n",
       "      <td>Rent</td>\n",
       "      <td>1.0</td>\n",
       "      <td>Homeimprovement</td>\n",
       "      <td>B</td>\n",
       "      <td>5000.0</td>\n",
       "      <td>12.42</td>\n",
       "      <td>0.0</td>\n",
       "      <td>NaN</td>\n",
       "      <td>NaN</td>\n",
       "      <td>11.0</td>\n",
       "    </tr>\n",
       "    <tr>\n",
       "      <th>4</th>\n",
       "      <td>Hbz9PtI3-tOFs</td>\n",
       "      <td>bFMFchcv-UwQW</td>\n",
       "      <td>PkBixMJ3-3bad</td>\n",
       "      <td>29.0</td>\n",
       "      <td>42000.0</td>\n",
       "      <td>Rent</td>\n",
       "      <td>4.0</td>\n",
       "      <td>Venture</td>\n",
       "      <td>G</td>\n",
       "      <td>1600.0</td>\n",
       "      <td>19.16</td>\n",
       "      <td>0.0</td>\n",
       "      <td>0.04</td>\n",
       "      <td>Y</td>\n",
       "      <td>6.0</td>\n",
       "    </tr>\n",
       "  </tbody>\n",
       "</table>\n",
       "</div>"
      ],
      "text/plain": [
       "       person_id        loan_id          cb_id  person_age  person_income  \\\n",
       "0  JAz2tRvQ-14cy  pjEu6snv-4t33  FIgNSkrG-wen7         NaN        41160.0   \n",
       "1  MZSefq9m-loYS  Mfn0Csx4-LGM3  QPDJUQfQ-DJqK        22.0        29000.0   \n",
       "2  cRItaaPB-pRvT  Ks4nz74P-z6Iq  hzAXqSDh-ay7Q        31.0        19968.0   \n",
       "3  5jTDCfXS-zaAq  ZFlwW08i-I3Al  LiAivrS4-J5DE        29.0        73000.0   \n",
       "4  Hbz9PtI3-tOFs  bFMFchcv-UwQW  PkBixMJ3-3bad        29.0        42000.0   \n",
       "\n",
       "  person_home_ownership  person_emp_length        loan_intent loan_grade  \\\n",
       "0                  Rent                2.0  Debtconsolidation          A   \n",
       "1              Mortgage                5.0  Debtconsolidation          B   \n",
       "2                  Rent                1.0          Education          B   \n",
       "3                  Rent                1.0    Homeimprovement          B   \n",
       "4                  Rent                4.0            Venture          G   \n",
       "\n",
       "   loan_amnt  loan_int_rate  loan_status  loan_percent_income  \\\n",
       "0     6500.0          13.57          0.0                  NaN   \n",
       "1     9000.0            NaN          1.0                 0.31   \n",
       "2     2500.0           9.62          1.0                 0.13   \n",
       "3     5000.0          12.42          0.0                  NaN   \n",
       "4     1600.0          19.16          0.0                 0.04   \n",
       "\n",
       "  cb_person_default_on_file  cb_person_cred_hist_length  \n",
       "0                         Y                         2.0  \n",
       "1                         N                         4.0  \n",
       "2                         N                         6.0  \n",
       "3                       NaN                        11.0  \n",
       "4                         Y                         6.0  "
      ]
     },
     "execution_count": 36,
     "metadata": {},
     "output_type": "execute_result"
    }
   ],
   "source": [
    "df.head()"
   ]
  },
  {
   "cell_type": "code",
   "execution_count": 41,
   "id": "70b027ad-e453-403d-890d-769dbff92cc9",
   "metadata": {},
   "outputs": [],
   "source": [
    "df = df.rename(columns={'loan_int_rate':'loan_rate','person_emp_length':'time_emp','loan_amnt':'loan_solicitated', 'loan_status':'loan_prob_fraud', 'cb_person_default_on_file':'person_default','cb_person_cred_hist_length':'time_last_cred_hist'})"
   ]
  },
  {
   "cell_type": "code",
   "execution_count": 48,
   "id": "3143e772-2484-4523-ae63-63acc7c76e02",
   "metadata": {},
   "outputs": [],
   "source": [
    "df.to_csv('Dados/dataset_merged.csv', index=None)"
   ]
  },
  {
   "cell_type": "code",
   "execution_count": null,
   "id": "77f75824-2650-42e7-a726-fc0c549fb380",
   "metadata": {},
   "outputs": [],
   "source": []
  }
 ],
 "metadata": {
  "kernelspec": {
   "display_name": "Python 3 (ipykernel)",
   "language": "python",
   "name": "python3"
  },
  "language_info": {
   "codemirror_mode": {
    "name": "ipython",
    "version": 3
   },
   "file_extension": ".py",
   "mimetype": "text/x-python",
   "name": "python",
   "nbconvert_exporter": "python",
   "pygments_lexer": "ipython3",
   "version": "3.9.7"
  }
 },
 "nbformat": 4,
 "nbformat_minor": 5
}
